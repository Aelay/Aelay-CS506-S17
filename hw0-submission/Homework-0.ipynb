{
 "cells": [
  {
   "cell_type": "markdown",
   "metadata": {},
   "source": [
    "# Homework 0"
   ]
  },
  {
   "cell_type": "markdown",
   "metadata": {},
   "source": [
    "You will not have to turn this homework in. The goal of this homework is just to practice the skills learned in Lecture 1. These skills will be essential for the rest of this course."
   ]
  },
  {
   "cell_type": "markdown",
   "metadata": {},
   "source": [
    "Before starting to work on this homework, **make a new folder** named ```hw0-submission```   in your private repo and move ```Homework-0.ipynb``` into that folder."
   ]
  },
  {
   "cell_type": "markdown",
   "metadata": {},
   "source": [
    "Let's make sure that you placed everything in the correct folder"
   ]
  },
  {
   "cell_type": "code",
   "execution_count": 1,
   "metadata": {
    "collapsed": false
   },
   "outputs": [
    {
     "name": "stdout",
     "output_type": "stream",
     "text": [
      "You did everything correctly. Congrats!\n"
     ]
    }
   ],
   "source": [
    "import os\n",
    "\n",
    "if os.path.basename(os.path.realpath('.')) != \"hw0-submission\":\n",
    "    print(\"The name of the current directory should be 'hw0-submission'\")\n",
    "else:\n",
    "    print(\"You did everything correctly. Congrats!\")"
   ]
  },
  {
   "cell_type": "markdown",
   "metadata": {},
   "source": [
    "Now, assuming that everything is in their correct place, you should ``git add`` all the new directories/files and make your initial ```git commit```."
   ]
  },
  {
   "cell_type": "markdown",
   "metadata": {},
   "source": [
    "## This is a Markdown cell\n",
    "\n",
    "Insert and edit your own markdown cell *below*. Write your favorite quote."
   ]
  },
  {
   "cell_type": "markdown",
   "metadata": {},
   "source": [
    "### WASSSSUPP"
   ]
  },
  {
   "cell_type": "code",
   "execution_count": 8,
   "metadata": {
    "collapsed": false
   },
   "outputs": [
    {
     "name": "stdout",
     "output_type": "stream",
     "text": [
      "hi\n"
     ]
    }
   ],
   "source": [
    "# This is a code cell. Try executing it. Do not clear your output.\n",
    "print(\"hi\")"
   ]
  },
  {
   "cell_type": "markdown",
   "metadata": {},
   "source": [
    "Write a function that takes as argument a string and returns its 3-letter suffix. If the string is shorter than 3 letters, return the whole string."
   ]
  },
  {
   "cell_type": "code",
   "execution_count": 9,
   "metadata": {
    "collapsed": false
   },
   "outputs": [],
   "source": [
    "def suffix_3(string):\n",
    "    \"\"\"\n",
    "    Returns the 3-letter suffix.\n",
    "    \n",
    "    Parameters:\n",
    "        string: str\n",
    "    \n",
    "    Returns:\n",
    "        suffix: str\n",
    "        If `string` is more than 3-letters long, `suffix` is its 3-letter suffix. Otherwise, `suffix` is the same as `string`.\n",
    "    \"\"\"\n",
    "    \n",
    "    return string[0:3]\n",
    "    "
   ]
  },
  {
   "cell_type": "code",
   "execution_count": 10,
   "metadata": {
    "collapsed": false
   },
   "outputs": [
    {
     "name": "stdout",
     "output_type": "stream",
     "text": [
      "Hi!\n",
      "Sup\n",
      "Yo\n"
     ]
    }
   ],
   "source": [
    "print(suffix_3(\"Hi!\"))\n",
    "print(suffix_3(\"Superb\"))\n",
    "print(suffix_3(\"Yo\"))"
   ]
  },
  {
   "cell_type": "markdown",
   "metadata": {},
   "source": [
    "When you finish with the above function, don't forget to ```add``` and ```commit``` to your local git repository."
   ]
  },
  {
   "cell_type": "markdown",
   "metadata": {},
   "source": [
    "Let's print the versions of some packages that we will be using in the future. If any of these packages are not present, ```conda install``` them. Do not clear your output."
   ]
  },
  {
   "cell_type": "code",
   "execution_count": 11,
   "metadata": {
    "collapsed": false
   },
   "outputs": [
    {
     "name": "stdout",
     "output_type": "stream",
     "text": [
      "('numpy:', '1.11.1')\n",
      "('scipy:', '0.17.1')\n",
      "('matplotlib:', '1.5.1')\n",
      "('scikit-learn:', '0.17.1')\n",
      "('pandas:', u'0.18.1')\n"
     ]
    }
   ],
   "source": [
    "import numpy\n",
    "print('numpy:', numpy.__version__)\n",
    "\n",
    "import scipy\n",
    "print('scipy:', scipy.__version__)\n",
    "\n",
    "import matplotlib\n",
    "print('matplotlib:', matplotlib.__version__)\n",
    "\n",
    "import sklearn\n",
    "print('scikit-learn:', sklearn.__version__)\n",
    "\n",
    "import pandas\n",
    "print('pandas:', pandas.__version__)"
   ]
  },
  {
   "cell_type": "markdown",
   "metadata": {},
   "source": [
    "Write a function that takes as argument a 2D list representing a matrix **M** and returns a boolean indicating whether **M** is an orthogonal matrix.\n",
    "\n",
    "Keep in mind the possibility of roundoff error in floating point computations.\n",
    "\n",
    "To test if two matrices are equal, you may find functions in the `numpy.testing` package to be useful."
   ]
  },
  {
   "cell_type": "code",
   "execution_count": 18,
   "metadata": {
    "collapsed": true
   },
   "outputs": [],
   "source": [
    "import numpy as np\n",
    "\n",
    "def is_matrix_orthogonal(M):\n",
    "    \"\"\"\n",
    "    Returns True if M is an orthogonal matrix.\n",
    "    \n",
    "    Parameters:\n",
    "        M: 2D list\n",
    "    \n",
    "    Returns:\n",
    "        is_orthogonal: boolean\n",
    "    \"\"\"\n",
    "    \n",
    "    M = np.matrix(M)\n",
    "    return np.allclose(M.T * M, np.identity(len(M)), 1e-3,1e-4)\n",
    "        \n"
   ]
  },
  {
   "cell_type": "code",
   "execution_count": 19,
   "metadata": {
    "collapsed": false,
    "scrolled": false
   },
   "outputs": [
    {
     "name": "stdout",
     "output_type": "stream",
     "text": [
      "True\n",
      "False\n",
      "True\n",
      "[[1 0]\n",
      " [0 1]]\n",
      "[[  7.72847906   9.1832364    7.74069722]\n",
      " [  9.1832364   27.70890619  21.05797051]\n",
      " [  7.74069722  21.05797051  23.88575669]]\n",
      "[[  1.00002549e+00  -5.17800000e-05   1.37300000e-05]\n",
      " [ -5.17800000e-05   9.99910250e-01  -5.22200000e-05]\n",
      " [  1.37300000e-05  -5.22200000e-05   1.00008281e+00]]\n"
     ]
    }
   ],
   "source": [
    "print(is_matrix_orthogonal([[1, 0], [0, -1]]))\n",
    "print(is_matrix_orthogonal([[-1.2396, -4.3801, -1.7737], [-1.3121, -2.9193, -4.5496], [-2.1143, 0.0363, 0.2022]]))\n",
    "print(is_matrix_orthogonal([[-0.8185, 0.5740, -0.0249], [-0.2510, -0.3183, 0.9142], [-0.5168, -0.7544, -0.4046]]))\n",
    "\n",
    "M=np.matrix([[1, 0], [0, -1]])\n",
    "print M.T*M\n",
    "M=np.matrix([[-1.2396, -4.3801, -1.7737], [-1.3121, -2.9193, -4.5496], [-2.1143, 0.0363, 0.2022]])\n",
    "print M.T*M\n",
    "M=np.matrix([[-0.8185, 0.5740, -0.0249], [-0.2510, -0.3183, 0.9142], [-0.5168, -0.7544, -0.4046]])\n",
    "print M.T*M\n",
    "\n"
   ]
  },
  {
   "cell_type": "markdown",
   "metadata": {},
   "source": [
    "When you finish with the above function, don't forget to ```add``` and ```commit``` to your local git repository."
   ]
  },
  {
   "cell_type": "markdown",
   "metadata": {},
   "source": [
    "## Submitting"
   ]
  },
  {
   "cell_type": "markdown",
   "metadata": {},
   "source": [
    "Now, you can push your changes to Github."
   ]
  }
 ],
 "metadata": {
  "anaconda-cloud": {},
  "kernelspec": {
   "display_name": "Python [Root]",
   "language": "python",
   "name": "Python [Root]"
  },
  "language_info": {
   "codemirror_mode": {
    "name": "ipython",
    "version": 2
   },
   "file_extension": ".py",
   "mimetype": "text/x-python",
   "name": "python",
   "nbconvert_exporter": "python",
   "pygments_lexer": "ipython2",
   "version": "2.7.12"
  }
 },
 "nbformat": 4,
 "nbformat_minor": 0
}
